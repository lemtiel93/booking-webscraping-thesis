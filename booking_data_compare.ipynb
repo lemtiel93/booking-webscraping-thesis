{
 "cells": [
  {
   "cell_type": "code",
   "execution_count": null,
   "metadata": {},
   "outputs": [],
   "source": [
    "# Carica il file csv e coonverto colonna dei prezzi in int\n",
    "import pandas as pd\n",
    "import re\n",
    "import itertools\n",
    "\n",
    "df=pd.read_csv(\"palermo_dati_booking.csv\")\n",
    "df['prezzo'] = df['prezzo'].apply(lambda x: int(re.search(r'\\d+', x).group()))\n",
    "df.columns"
   ]
  },
  {
   "cell_type": "code",
   "execution_count": null,
   "metadata": {},
   "outputs": [],
   "source": [
    "#Prendo tutte le combinazioni di coppie di ricerche sulla stessa città\n",
    "df_list = df['TIMESTAMP'].unique()\n",
    "coppie_df = list(itertools.combinations(df_list, 2))\n",
    "len(coppie_df)"
   ]
  },
  {
   "cell_type": "code",
   "execution_count": null,
   "metadata": {},
   "outputs": [],
   "source": [
    "# Creo un Dataframe per vedere differenze di prezzo tra diverse ricerche\n",
    "list_dict_df = []\n",
    "for i in coppie_df:\n",
    "    orario1 = i[0]\n",
    "    orario2 = i[1]\n",
    "    df1 = df[df[\"TIMESTAMP\"]==orario1]\n",
    "    df2 = df[df[\"TIMESTAMP\"]==orario2]\n",
    "    df1 = df1.drop_duplicates()\n",
    "    df2 = df2.drop_duplicates()\n",
    "    if df1['user_agent_type'].unique()[0]==df2['user_agent_type'].unique()[0]:\n",
    "        merged_df = pd.merge(df1, df2, on=['nome_hotel','stanza','data'], how='inner')\n",
    "    else:\n",
    "        merged_df = pd.merge(df1, df2, on=['nome_hotel','data'], how='inner')\n",
    "    initial_len = len(merged_df)\n",
    "    merged_df = merged_df[merged_df[\"prezzo_x\"]!=merged_df[\"prezzo_y\"]]\n",
    "    # Elimino hotel con stesso nome \n",
    "    righe_droppate = len(merged_df)\n",
    "    merged_df = merged_df.drop_duplicates(subset=\"nome_hotel\",keep= False)\n",
    "    righe_droppate -= len(merged_df)\n",
    "    merged_df[\"differenza_prezzo\"] = (merged_df[\"prezzo_x\"]-merged_df[\"prezzo_y\"]).abs()\n",
    "    if merged_df['prezzo_x'].sum() < merged_df['prezzo_y'].sum():\n",
    "        prezzi_inferiori = \"Dataframe 1\"\n",
    "    else: prezzi_inferiori = \"Dataframe 2\"\n",
    "    dict_df = {}\n",
    "    dict_df ['coppia_ricerche'] = orario1+\" *** \"+orario2\n",
    "    dict_df ['num_differenze_prezzo'] = len(merged_df)\n",
    "    dict_df ['media'] = merged_df['differenza_prezzo'].mean()\n",
    "    dict_df ['mediana'] = merged_df['differenza_prezzo'].median()\n",
    "    dict_df['%_prezzi_diversi'] = len(merged_df)/initial_len\n",
    "    dict_df['tipo_ricerche'] = df1['user_agent_type'].unique()[0] + \"/\"+ df2['user_agent_type'].unique()[0]\n",
    "    dict_df['os'] = df1['os'].unique()[0] + \"/\"+ df2['os'].unique()[0]\n",
    "    #dict_df['username'] = df1['username'].unique()[0] + \"/\"+ df2['username'].unique()[0]\n",
    "    dict_df['prezzi_inferiori'] = prezzi_inferiori\n",
    "    #dict_df['righe_duplicate'] = righe_droppate\n",
    "    list_dict_df.append(dict_df)\n",
    "\n",
    "df_differenze = pd.DataFrame(list_dict_df)   \n",
    "df_differenze.sort_values(by=['num_differenze_prezzo','media'],ascending=False)\n",
    "\n"
   ]
  },
  {
   "cell_type": "code",
   "execution_count": null,
   "metadata": {},
   "outputs": [],
   "source": [
    "# Elimino una o più ricerche dal dataframe\n",
    "new_df = df_differenze.drop(df_differenze[df_differenze['coppia_ricerche'].str.contains(\"15:22\")].index) \n",
    "new_df.sort_values(by=['num_differenze_prezzo','media'],ascending=False)"
   ]
  },
  {
   "cell_type": "code",
   "execution_count": null,
   "metadata": {},
   "outputs": [],
   "source": [
    "# Visualizza dataframe mobile/mobile o desktop/desktop\n",
    "df_tipo_uguale = df_differenze[(df_differenze['tipo_ricerche']==\"mobile/mobile\") | (df_differenze['tipo_ricerche']==\"desktop/desktop\")]\n",
    "df_tipo_uguale.sort_values(by=\"num_differenze_prezzo\",ascending= False)"
   ]
  },
  {
   "cell_type": "code",
   "execution_count": null,
   "metadata": {},
   "outputs": [],
   "source": [
    "# Visualizza il numero di ricerche mobile e desktop\n",
    "mobile = 0\n",
    "desktop = 0\n",
    "for i in df_list:\n",
    "    df1 = df[df[\"TIMESTAMP\"]==i]\n",
    "    stringa = df1['user_agent_type'].unique()[0]\n",
    "    if \"mob\" in stringa:\n",
    "        mobile +=1\n",
    "    else: desktop+=1\n",
    "    print(df1['user_agent_type'].unique())\n",
    "\n",
    "print(\"Mobile:\", mobile,\"Desktop:\",desktop)"
   ]
  }
 ],
 "metadata": {
  "kernelspec": {
   "display_name": "base",
   "language": "python",
   "name": "python3"
  },
  "language_info": {
   "codemirror_mode": {
    "name": "ipython",
    "version": 3
   },
   "file_extension": ".py",
   "mimetype": "text/x-python",
   "name": "python",
   "nbconvert_exporter": "python",
   "pygments_lexer": "ipython3",
   "version": "3.11.5"
  }
 },
 "nbformat": 4,
 "nbformat_minor": 2
}
