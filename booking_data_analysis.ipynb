{
 "cells": [
  {
   "cell_type": "code",
   "execution_count": 154,
   "metadata": {},
   "outputs": [
    {
     "data": {
      "text/plain": [
       "Index(['nome_hotel', 'prezzo', 'stanza', 'città', 'data', 'punteggio',\n",
       "       'numero_recensioni', 'distanza_centro', 'genius', 'offerte',\n",
       "       'colazione_inclusa', 'senza_pagamento_anticipato',\n",
       "       'cancellazione_gratuita', 'os', 'username', 'user_agent_type',\n",
       "       'TIMESTAMP'],\n",
       "      dtype='object')"
      ]
     },
     "execution_count": 154,
     "metadata": {},
     "output_type": "execute_result"
    }
   ],
   "source": [
    "# Carica il file csv e converto colonna dei prezzi in int\n",
    "import pandas as pd\n",
    "import re\n",
    "\n",
    "\n",
    "df=pd.read_csv(\"dati_milano/milano_dati_booking.csv\")\n",
    "df['prezzo'] = df['prezzo'].apply(lambda x: int(re.search(r'\\d+', x).group()))\n",
    "df.columns"
   ]
  },
  {
   "cell_type": "code",
   "execution_count": 155,
   "metadata": {},
   "outputs": [],
   "source": [
    "# Crea delle colonne con valori True/False in base alle offerte\n",
    "df['booking_paga'] = df['offerte'].str.contains('Booking.com paga')\n",
    "df['offerta_tempo_limitato'] = df['offerte'].str.contains('tempo limitato')\n",
    "df['prezzo_mobile'] = df['offerte'].str.contains('mobile')\n",
    "df['offerta_super_segreta'] = df['offerte'].str.contains('SuperSegreta')\n",
    "df['offerta_inizio_2024'] = df['offerte'].str.contains('Offerta Inizio 2024')\n",
    "# Inserisce False nei campi nulli\n",
    "df[['booking_paga','offerta_tempo_limitato','prezzo_mobile','offerta_super_segreta','offerta_inizio_2024']] = df[['booking_paga','offerta_tempo_limitato','prezzo_mobile','offerta_super_segreta','offerta_inizio_2024']].fillna(False)\n",
    "\n",
    "\n"
   ]
  },
  {
   "cell_type": "code",
   "execution_count": 156,
   "metadata": {},
   "outputs": [
    {
     "data": {
      "text/plain": [
       "array(['03-02-2024---20:14', '03-02-2024---20:31', '03-02-2024---20:42',\n",
       "       '03-02-2024---20:53', '03-02-2024---21:30', '03-02-2024---21:42',\n",
       "       '03-02-2024---22:10', '03-02-2024---22:41', '03-03-2024---13:08',\n",
       "       '03-03-2024---13:23'], dtype=object)"
      ]
     },
     "execution_count": 156,
     "metadata": {},
     "output_type": "execute_result"
    }
   ],
   "source": [
    "# Visualizza lista ricerche in base ad orari\n",
    "df['TIMESTAMP'].unique()"
   ]
  },
  {
   "cell_type": "code",
   "execution_count": 157,
   "metadata": {},
   "outputs": [],
   "source": [
    "# Divide il dataframe in base a orari ricerche per fare poi il merge\n",
    "orario1 = df[\"TIMESTAMP\"].unique()[1]\n",
    "orario2 = df[\"TIMESTAMP\"].unique()[3]\n",
    "\n",
    "df1 = df[df[\"TIMESTAMP\"]==orario1]\n",
    "df2 = df[df[\"TIMESTAMP\"]==orario2]\n",
    "\n",
    "# Eliminazione duplicati\n",
    "df1 = df1.drop_duplicates()\n",
    "df2 = df2.drop_duplicates()"
   ]
  },
  {
   "cell_type": "code",
   "execution_count": 158,
   "metadata": {},
   "outputs": [
    {
     "data": {
      "text/plain": [
       "Index(['nome_hotel', 'prezzo_x', 'stanza_x', 'città_x', 'data',\n",
       "       'numero_recensioni_x', 'distanza_centro_x', 'offerte_x',\n",
       "       'colazione_inclusa_x', 'senza_pagamento_anticipato_x',\n",
       "       'cancellazione_gratuita_x', 'os_x', 'user_agent_type_x', 'TIMESTAMP_x',\n",
       "       'prezzo_mobile_x', 'offerta_super_segreta_x', 'offerta_inizio_2024_x',\n",
       "       'prezzo_y', 'stanza_y', 'città_y', 'numero_recensioni_y',\n",
       "       'distanza_centro_y', 'offerte_y', 'colazione_inclusa_y',\n",
       "       'senza_pagamento_anticipato_y', 'cancellazione_gratuita_y', 'os_y',\n",
       "       'user_agent_type_y', 'TIMESTAMP_y', 'prezzo_mobile_y',\n",
       "       'offerta_super_segreta_y', 'offerta_inizio_2024_y', 'punteggio',\n",
       "       'genius', 'username', 'booking_paga', 'offerta_tempo_limitato'],\n",
       "      dtype='object')"
      ]
     },
     "execution_count": 158,
     "metadata": {},
     "output_type": "execute_result"
    }
   ],
   "source": [
    "# MERGE TRA DATAFRAME\n",
    "'''\n",
    "Se le ricerche sono dello stesso tipo (Mobile o Desktop) il merge avviene anche sulla colonna stanza\n",
    "Vengono inoltre compattate eventuali colonne uguali e prese in considerazione le righe in cui vi è una differenza di prezzo\n",
    "'''\n",
    "df_list = df.columns.tolist()\n",
    "df_list =  df_list[3:4] +df_list[5:-2]\n",
    "if df1['user_agent_type'].unique()[0]==df2['user_agent_type'].unique()[0]:\n",
    "    merged_df = pd.merge(df1, df2, on=['nome_hotel','stanza','data'], how='inner')\n",
    "else:\n",
    "    merged_df = pd.merge(df1, df2, on=['nome_hotel','data'], how='inner')\n",
    "merged_df = merged_df[merged_df[\"prezzo_x\"]!=merged_df[\"prezzo_y\"]]\n",
    "for col in df_list:\n",
    "    if merged_df[col+\"_x\"].equals(merged_df[col+\"_y\"]):\n",
    "        merged_df[col] = merged_df[col+\"_x\"]\n",
    "        merged_df.drop(columns=[col+\"_x\",col+\"_y\"],inplace=True)\n",
    "merged_df.columns"
   ]
  },
  {
   "cell_type": "code",
   "execution_count": null,
   "metadata": {},
   "outputs": [],
   "source": [
    "# Per visualizzare tutte le righe con differenze di prezzo\n",
    "#pd.set_option('display.max_rows', None)\n",
    "merged_df[[\"nome_hotel\",\"prezzo_x\",\"prezzo_y\",\"offerte_x\",\"offerte_y\"]]"
   ]
  },
  {
   "cell_type": "code",
   "execution_count": null,
   "metadata": {},
   "outputs": [],
   "source": [
    "#aggiungo colonna con differenza prezzi\n",
    "pd.set_option('display.max_rows', None)\n",
    "merged_df[\"differenza_prezzo\"] = merged_df[\"prezzo_x\"]-merged_df[\"prezzo_y\"]\n",
    "merged_df.sort_values(by='differenza_prezzo',ascending= False)\n",
    "merged_df[['nome_hotel','prezzo_x','prezzo_y','differenza_prezzo','prezzo_mobile_y','offerte_y']]\n",
    "\n"
   ]
  },
  {
   "cell_type": "code",
   "execution_count": 160,
   "metadata": {},
   "outputs": [
    {
     "data": {
      "text/plain": [
       "353"
      ]
     },
     "execution_count": 160,
     "metadata": {},
     "output_type": "execute_result"
    }
   ],
   "source": [
    "# Visualizza dove compare una specifica offerta in almeno una delle ricerche\n",
    "df_mobile = merged_df[(merged_df['prezzo_mobile_x'])|(merged_df['prezzo_mobile_y'])]\n",
    "len(df_mobile)\n",
    "len(merged_df)\n"
   ]
  },
  {
   "cell_type": "code",
   "execution_count": 163,
   "metadata": {},
   "outputs": [
    {
     "data": {
      "text/plain": [
       "211"
      ]
     },
     "execution_count": 163,
     "metadata": {},
     "output_type": "execute_result"
    }
   ],
   "source": [
    "# Elimino righe in cui il mobile non ha la stanza\n",
    "if merged_df['user_agent_type_x'].unique()[0] == 'mobile':\n",
    "    df_senza_stanza = merged_df['stanza_x'].dropna()\n",
    "elif merged_df['user_agent_type_y'].unique()[0] == 'mobile':\n",
    "    df_senza_stanza = merged_df['stanza_y'].dropna()\n",
    "len(df_senza_stanza)"
   ]
  }
 ],
 "metadata": {
  "kernelspec": {
   "display_name": "base",
   "language": "python",
   "name": "python3"
  },
  "language_info": {
   "codemirror_mode": {
    "name": "ipython",
    "version": 3
   },
   "file_extension": ".py",
   "mimetype": "text/x-python",
   "name": "python",
   "nbconvert_exporter": "python",
   "pygments_lexer": "ipython3",
   "version": "3.11.5"
  }
 },
 "nbformat": 4,
 "nbformat_minor": 2
}
