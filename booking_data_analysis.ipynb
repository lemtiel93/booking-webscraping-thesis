{
 "cells": [
  {
   "cell_type": "code",
   "execution_count": null,
   "metadata": {},
   "outputs": [],
   "source": [
    "# Carica il file csv e converto colonna dei prezzi in int\n",
    "import pandas as pd\n",
    "import re\n",
    "\n",
    "df=pd.read_csv(\"palermo_dati_booking.csv\")\n",
    "df['prezzo'] = df['prezzo'].apply(lambda x: int(re.search(r'\\d+', x).group()))\n",
    "df.columns"
   ]
  },
  {
   "cell_type": "code",
   "execution_count": null,
   "metadata": {},
   "outputs": [],
   "source": [
    "# Crea delle colonne con valori True/False in base alle offerte\n",
    "df['booking_paga'] = df['offerte'].str.contains('Booking.com paga')\n",
    "df['offerta_tempo_limitato'] = df['offerte'].str.contains('tempo limitato')\n",
    "df['prezzo_mobile'] = df['offerte'].str.contains('mobile')\n",
    "df['offerta_super_segreta'] = df['offerte'].str.contains('SuperSegreta')\n",
    "df['offerta_inizio_2024'] = df['offerte'].str.contains('Offerta Inizio 2024')\n",
    "# Inserisce False nei campi nulli\n",
    "df[['booking_paga','offerta_tempo_limitato','prezzo_mobile','offerta_super_segreta','offerta_inizio_2024']] = df[['booking_paga','offerta_tempo_limitato','prezzo_mobile','offerta_super_segreta','offerta_inizio_2024']].fillna(False)"
   ]
  },
  {
   "cell_type": "code",
   "execution_count": null,
   "metadata": {},
   "outputs": [],
   "source": [
    "# Visualizza lista ricerche in base ad orari\n",
    "df['TIMESTAMP'].unique()"
   ]
  },
  {
   "cell_type": "code",
   "execution_count": null,
   "metadata": {},
   "outputs": [],
   "source": [
    "# Divide il dataframe in base a orari ricerche per fare poi il merge\n",
    "orario1 = df[\"TIMESTAMP\"].unique()[1]\n",
    "orario2 = df[\"TIMESTAMP\"].unique()[3]\n",
    "\n",
    "df1 = df[df[\"TIMESTAMP\"]==orario1]\n",
    "df2 = df[df[\"TIMESTAMP\"]==orario2]\n",
    "\n",
    "# Eliminazione duplicati\n",
    "df1 = df1.drop_duplicates()\n",
    "df2 = df2.drop_duplicates()"
   ]
  },
  {
   "cell_type": "code",
   "execution_count": null,
   "metadata": {},
   "outputs": [],
   "source": [
    "# MERGE TRA DATAFRAME\n",
    "'''\n",
    "Se le ricerche sono dello stesso tipo (Mobile o Desktop) il merge avviene anche sulla colonna stanza\n",
    "Vengono inoltre compattate eventuali colonne uguali e prese in considerazione le righe in cui vi è una differenza di prezzo\n",
    "'''\n",
    "df_list = df.columns.tolist()\n",
    "df_list =  df_list[3:4] +df_list[5:-2]\n",
    "if df1['user_agent_type'].unique()[0]==df2['user_agent_type'].unique()[0]:\n",
    "    merged_df = pd.merge(df1, df2, on=['nome_hotel','stanza','data'], how='inner')\n",
    "else:\n",
    "    merged_df = pd.merge(df1, df2, on=['nome_hotel','data'], how='inner')\n",
    "merged_df = merged_df[merged_df[\"prezzo_x\"]!=merged_df[\"prezzo_y\"]]\n",
    "for col in df_list:\n",
    "    if merged_df[col+\"_x\"].equals(merged_df[col+\"_y\"]):\n",
    "        merged_df[col] = merged_df[col+\"_x\"]\n",
    "        merged_df.drop(columns=[col+\"_x\",col+\"_y\"],inplace=True)\n",
    "merged_df.columns"
   ]
  },
  {
   "cell_type": "code",
   "execution_count": null,
   "metadata": {},
   "outputs": [],
   "source": [
    "# Per visualizzare tutte le righe con differenze di prezzo\n",
    "#pd.set_option('display.max_rows', None)\n",
    "merged_df[[\"nome_hotel\",\"prezzo_x\",\"prezzo_y\",\"offerte_x\",\"offerte_y\"]]"
   ]
  },
  {
   "cell_type": "code",
   "execution_count": 4,
   "metadata": {},
   "outputs": [
    {
     "ename": "NameError",
     "evalue": "name 'merged_df' is not defined",
     "output_type": "error",
     "traceback": [
      "\u001b[1;31m---------------------------------------------------------------------------\u001b[0m",
      "\u001b[1;31mNameError\u001b[0m                                 Traceback (most recent call last)",
      "Cell \u001b[1;32mIn[4], line 3\u001b[0m\n\u001b[0;32m      1\u001b[0m \u001b[38;5;66;03m#aggiungo colonna con differenza prezzi\u001b[39;00m\n\u001b[0;32m      2\u001b[0m pd\u001b[38;5;241m.\u001b[39mset_option(\u001b[38;5;124m'\u001b[39m\u001b[38;5;124mdisplay.max_rows\u001b[39m\u001b[38;5;124m'\u001b[39m, \u001b[38;5;28;01mNone\u001b[39;00m)\n\u001b[1;32m----> 3\u001b[0m merged_df[\u001b[38;5;124m\"\u001b[39m\u001b[38;5;124mdifferenza_prezzo\u001b[39m\u001b[38;5;124m\"\u001b[39m] \u001b[38;5;241m=\u001b[39m merged_df[\u001b[38;5;124m\"\u001b[39m\u001b[38;5;124mprezzo_x\u001b[39m\u001b[38;5;124m\"\u001b[39m]\u001b[38;5;241m-\u001b[39mmerged_df[\u001b[38;5;124m\"\u001b[39m\u001b[38;5;124mprezzo_y\u001b[39m\u001b[38;5;124m\"\u001b[39m]\n\u001b[0;32m      4\u001b[0m merged_df\u001b[38;5;241m.\u001b[39msort_values(by\u001b[38;5;241m=\u001b[39m\u001b[38;5;124m'\u001b[39m\u001b[38;5;124mdifferenza_prezzo\u001b[39m\u001b[38;5;124m'\u001b[39m,ascending\u001b[38;5;241m=\u001b[39m \u001b[38;5;28;01mFalse\u001b[39;00m)\n\u001b[0;32m      5\u001b[0m merged_df[[\u001b[38;5;124m'\u001b[39m\u001b[38;5;124mnome_hotel\u001b[39m\u001b[38;5;124m'\u001b[39m,\u001b[38;5;124m'\u001b[39m\u001b[38;5;124mprezzo_x\u001b[39m\u001b[38;5;124m'\u001b[39m,\u001b[38;5;124m'\u001b[39m\u001b[38;5;124mprezzo_y\u001b[39m\u001b[38;5;124m'\u001b[39m,\u001b[38;5;124m'\u001b[39m\u001b[38;5;124mdifferenza_prezzo\u001b[39m\u001b[38;5;124m'\u001b[39m,\u001b[38;5;124m'\u001b[39m\u001b[38;5;124mofferte_x\u001b[39m\u001b[38;5;124m'\u001b[39m,\u001b[38;5;124m'\u001b[39m\u001b[38;5;124mofferte_y\u001b[39m\u001b[38;5;124m'\u001b[39m]]\n",
      "\u001b[1;31mNameError\u001b[0m: name 'merged_df' is not defined"
     ]
    }
   ],
   "source": [
    "#aggiungo colonna con differenza prezzi\n",
    "pd.set_option('display.max_rows', None)\n",
    "merged_df[\"differenza_prezzo\"] = merged_df[\"prezzo_x\"]-merged_df[\"prezzo_y\"]\n",
    "merged_df.sort_values(by='differenza_prezzo',ascending= False)\n",
    "merged_df[['nome_hotel','prezzo_x','prezzo_y','differenza_prezzo','offerte_x','offerte_y']]\n",
    "\n"
   ]
  },
  {
   "cell_type": "code",
   "execution_count": null,
   "metadata": {},
   "outputs": [],
   "source": [
    "# Visualizza dove compare una specifica offerta in almeno una delle ricerche\n",
    "df_mobile = merged_df[(merged_df['prezzo_mobile_x'])|(merged_df['prezzo_mobile_y'])]\n",
    "len(df_mobile)\n",
    "len(merged_df)\n"
   ]
  },
  {
   "cell_type": "code",
   "execution_count": null,
   "metadata": {},
   "outputs": [],
   "source": [
    "# Elimino righe in cui il mobile non ha la stanza\n",
    "if merged_df['user_agent_type_x'].unique()[0] == 'mobile':\n",
    "    df_senza_stanza = merged_df['stanza_x'].dropna()\n",
    "elif merged_df['user_agent_type_y'].unique()[0] == 'mobile':\n",
    "    df_senza_stanza = merged_df['stanza_y'].dropna()\n",
    "len(df_senza_stanza)"
   ]
  }
 ],
 "metadata": {
  "kernelspec": {
   "display_name": "base",
   "language": "python",
   "name": "python3"
  },
  "language_info": {
   "codemirror_mode": {
    "name": "ipython",
    "version": 3
   },
   "file_extension": ".py",
   "mimetype": "text/x-python",
   "name": "python",
   "nbconvert_exporter": "python",
   "pygments_lexer": "ipython3",
   "version": "3.11.5"
  }
 },
 "nbformat": 4,
 "nbformat_minor": 2
}
