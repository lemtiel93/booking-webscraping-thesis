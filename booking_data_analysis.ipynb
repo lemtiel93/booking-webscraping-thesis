{
 "cells": [
  {
   "cell_type": "code",
   "execution_count": 10,
   "metadata": {},
   "outputs": [
    {
     "data": {
      "text/plain": [
       "Index(['nome_hotel', 'prezzo_iniziale', 'prezzo', 'stanza', 'città', 'data',\n",
       "       'punteggio', 'numero_recensioni', 'distanza_centro', 'genius',\n",
       "       'offerte', 'colazione_inclusa', 'senza_pagamento_anticipato',\n",
       "       'cancellazione_gratuita', 'os', 'username', 'user_agent_type',\n",
       "       'TIMESTAMP'],\n",
       "      dtype='object')"
      ]
     },
     "execution_count": 10,
     "metadata": {},
     "output_type": "execute_result"
    }
   ],
   "source": [
    "# Carica il file csv e converto colonna dei prezzi in int\n",
    "import pandas as pd\n",
    "import re\n",
    "\n",
    "df=pd.read_csv(\"cosenza_dati_booking.csv\")\n",
    "df['prezzo'] = df['prezzo'].apply(lambda x: int(re.search(r'\\d+', x).group()))\n",
    "df['prezzo_iniziale'] = df['prezzo_iniziale'].apply(lambda x: int(re.search(r'\\d+', x).group()))\n",
    "df.columns"
   ]
  },
  {
   "cell_type": "code",
   "execution_count": 11,
   "metadata": {},
   "outputs": [],
   "source": [
    "# Crea delle colonne con valori True/False in base alle offerte\n",
    "df['booking_paga'] = df['offerte'].str.contains('Booking.com paga')\n",
    "df['offerta_tempo_limitato'] = df['offerte'].str.contains('tempo limitato')\n",
    "df['offerta_solo_mobile'] = df['offerte'].str.contains('mobile')\n",
    "df['offerta_super_segreta'] = df['offerte'].str.contains('SuperSegreta')\n",
    "df['offerta_inizio_2024'] = df['offerte'].str.contains('Offerta Inizio 2024')\n",
    "# Inserisce False nei campi nulli\n",
    "df[['booking_paga','offerta_tempo_limitato','offerta_solo_mobile','offerta_super_segreta','offerta_inizio_2024']] = df[['booking_paga','offerta_tempo_limitato','offerta_solo_mobile','offerta_super_segreta','offerta_inizio_2024']].fillna(False)"
   ]
  },
  {
   "cell_type": "code",
   "execution_count": 12,
   "metadata": {},
   "outputs": [
    {
     "data": {
      "text/plain": [
       "['Linux']"
      ]
     },
     "execution_count": 12,
     "metadata": {},
     "output_type": "execute_result"
    }
   ],
   "source": [
    "# Visualizzo OS in base a username\n",
    "df_user = df[df['username']=='pantilaura56']\n",
    "lst = df_user['TIMESTAMP'].unique()\n",
    "os = []\n",
    "for i in lst:\n",
    "    df3 = df_user[df_user['TIMESTAMP']==i]\n",
    "    os.append(df3['os'].unique()[0])\n",
    "os"
   ]
  },
  {
   "cell_type": "code",
   "execution_count": 13,
   "metadata": {},
   "outputs": [
    {
     "data": {
      "text/plain": [
       "array(['03-06-2024---15:51', '03-06-2024---15:59'], dtype=object)"
      ]
     },
     "execution_count": 13,
     "metadata": {},
     "output_type": "execute_result"
    }
   ],
   "source": [
    "# Visualizza lista ricerche per orario\n",
    "df['TIMESTAMP'].unique()"
   ]
  },
  {
   "cell_type": "code",
   "execution_count": 14,
   "metadata": {},
   "outputs": [],
   "source": [
    "# Divide il dataframe in base a orari ricerche per fare poi il merge\n",
    "orario1 = df[\"TIMESTAMP\"].unique()[0]\n",
    "orario2 = df[\"TIMESTAMP\"].unique()[1]\n",
    "\n",
    "df1 = df[df[\"TIMESTAMP\"]==orario1]\n",
    "df2 = df[df[\"TIMESTAMP\"]==orario2]\n",
    "\n",
    "# Eliminazione duplicati\n",
    "df1 = df1.drop_duplicates()\n",
    "df2 = df2.drop_duplicates()"
   ]
  },
  {
   "cell_type": "code",
   "execution_count": 19,
   "metadata": {},
   "outputs": [],
   "source": [
    "# MERGE TRA DATAFRAME\n",
    "'''\n",
    "Se le ricerche sono dello stesso tipo (Mobile o Desktop) il merge avviene anche sulla colonna stanza\n",
    "Vengono inoltre compattate eventuali colonne uguali e prese in considerazione le righe in cui vi è una differenza di prezzo\n",
    "'''\n",
    "df_list = df.columns.tolist()\n",
    "df_list =  df_list[4:5] +df_list[6:-2]\n",
    "if df1['user_agent_type'].unique()[0]==df2['user_agent_type'].unique()[0]:\n",
    "    merged_df = pd.merge(df1, df2, on=['nome_hotel','stanza','data','prezzo_iniziale'], how='inner')\n",
    "else:\n",
    "    merged_df = pd.merge(df1, df2, on=['nome_hotel','data'], how='inner')\n",
    "merged_df = merged_df[merged_df[\"prezzo_x\"]!=merged_df[\"prezzo_y\"]]\n",
    "for col in df_list:\n",
    "    if merged_df[col+\"_x\"].equals(merged_df[col+\"_y\"]):\n",
    "        merged_df[col] = merged_df[col+\"_x\"]\n",
    "        merged_df.drop(columns=[col+\"_x\",col+\"_y\"],inplace=True)\n",
    "# Elimino hotel con stesso nome\n",
    "merged_df = merged_df.drop_duplicates(subset=\"nome_hotel\",keep= False)        \n"
   ]
  },
  {
   "cell_type": "code",
   "execution_count": 20,
   "metadata": {},
   "outputs": [
    {
     "data": {
      "text/plain": [
       "55"
      ]
     },
     "execution_count": 20,
     "metadata": {},
     "output_type": "execute_result"
    }
   ],
   "source": [
    "# Per visualizzare tutte le righe con differenze di prezzo\n",
    "#pd.set_option('display.max_rows', None)\n",
    "merged_df[[\"nome_hotel\",\"prezzo_x\",\"prezzo_y\",\"offerte_x\",\"offerte_y\"]]\n",
    "len(merged_df)\n"
   ]
  },
  {
   "cell_type": "code",
   "execution_count": 23,
   "metadata": {},
   "outputs": [
    {
     "data": {
      "text/html": [
       "<div>\n",
       "<style scoped>\n",
       "    .dataframe tbody tr th:only-of-type {\n",
       "        vertical-align: middle;\n",
       "    }\n",
       "\n",
       "    .dataframe tbody tr th {\n",
       "        vertical-align: top;\n",
       "    }\n",
       "\n",
       "    .dataframe thead th {\n",
       "        text-align: right;\n",
       "    }\n",
       "</style>\n",
       "<table border=\"1\" class=\"dataframe\">\n",
       "  <thead>\n",
       "    <tr style=\"text-align: right;\">\n",
       "      <th></th>\n",
       "      <th>nome_hotel</th>\n",
       "      <th>prezzo_iniziale_x</th>\n",
       "      <th>prezzo_x</th>\n",
       "      <th>stanza_x</th>\n",
       "      <th>città_x</th>\n",
       "      <th>data</th>\n",
       "      <th>numero_recensioni_x</th>\n",
       "      <th>distanza_centro_x</th>\n",
       "      <th>offerte_x</th>\n",
       "      <th>senza_pagamento_anticipato_x</th>\n",
       "      <th>...</th>\n",
       "      <th>TIMESTAMP_y</th>\n",
       "      <th>offerta_solo_mobile_y</th>\n",
       "      <th>offerta_super_segreta_y</th>\n",
       "      <th>offerta_inizio_2024_y</th>\n",
       "      <th>punteggio</th>\n",
       "      <th>genius</th>\n",
       "      <th>colazione_inclusa</th>\n",
       "      <th>booking_paga</th>\n",
       "      <th>offerta_tempo_limitato</th>\n",
       "      <th>differenza_prezzo</th>\n",
       "    </tr>\n",
       "  </thead>\n",
       "  <tbody>\n",
       "    <tr>\n",
       "      <th>27</th>\n",
       "      <td>Manu's Guest Suite</td>\n",
       "      <td>117</td>\n",
       "      <td>101</td>\n",
       "      <td>Appartamento Deluxe</td>\n",
       "      <td>Cosenza</td>\n",
       "      <td>2024-03-20</td>\n",
       "      <td>108 recensioni</td>\n",
       "      <td>300 m dal centro</td>\n",
       "      <td>NaN</td>\n",
       "      <td>True</td>\n",
       "      <td>...</td>\n",
       "      <td>03-06-2024---15:59</td>\n",
       "      <td>True</td>\n",
       "      <td>False</td>\n",
       "      <td>False</td>\n",
       "      <td>9,7</td>\n",
       "      <td>True</td>\n",
       "      <td>False</td>\n",
       "      <td>False</td>\n",
       "      <td>False</td>\n",
       "      <td>10</td>\n",
       "    </tr>\n",
       "    <tr>\n",
       "      <th>21</th>\n",
       "      <td>Central Home B&amp;B</td>\n",
       "      <td>74</td>\n",
       "      <td>67</td>\n",
       "      <td>Camera Matrimoniale con Bagno Privato</td>\n",
       "      <td>Cosenza</td>\n",
       "      <td>2024-03-20</td>\n",
       "      <td>250 recensioni</td>\n",
       "      <td>450 m dal centro</td>\n",
       "      <td>NaN</td>\n",
       "      <td>False</td>\n",
       "      <td>...</td>\n",
       "      <td>03-06-2024---15:59</td>\n",
       "      <td>True</td>\n",
       "      <td>False</td>\n",
       "      <td>False</td>\n",
       "      <td>8,6</td>\n",
       "      <td>True</td>\n",
       "      <td>True</td>\n",
       "      <td>False</td>\n",
       "      <td>False</td>\n",
       "      <td>6</td>\n",
       "    </tr>\n",
       "    <tr>\n",
       "      <th>43</th>\n",
       "      <td>B&amp;B Tribunale</td>\n",
       "      <td>71</td>\n",
       "      <td>71</td>\n",
       "      <td>Camera Matrimoniale con Terrazza</td>\n",
       "      <td>Cosenza</td>\n",
       "      <td>2024-03-20</td>\n",
       "      <td>77 recensioni</td>\n",
       "      <td>1,7 km dal centro</td>\n",
       "      <td>NaN</td>\n",
       "      <td>False</td>\n",
       "      <td>...</td>\n",
       "      <td>03-06-2024---15:59</td>\n",
       "      <td>False</td>\n",
       "      <td>False</td>\n",
       "      <td>False</td>\n",
       "      <td>9,4</td>\n",
       "      <td>False</td>\n",
       "      <td>False</td>\n",
       "      <td>False</td>\n",
       "      <td>False</td>\n",
       "      <td>5</td>\n",
       "    </tr>\n",
       "  </tbody>\n",
       "</table>\n",
       "<p>3 rows × 40 columns</p>\n",
       "</div>"
      ],
      "text/plain": [
       "            nome_hotel  prezzo_iniziale_x  prezzo_x  \\\n",
       "27  Manu's Guest Suite                117       101   \n",
       "21    Central Home B&B                 74        67   \n",
       "43       B&B Tribunale                 71        71   \n",
       "\n",
       "                                 stanza_x  città_x        data  \\\n",
       "27                    Appartamento Deluxe  Cosenza  2024-03-20   \n",
       "21  Camera Matrimoniale con Bagno Privato  Cosenza  2024-03-20   \n",
       "43       Camera Matrimoniale con Terrazza  Cosenza  2024-03-20   \n",
       "\n",
       "   numero_recensioni_x  distanza_centro_x offerte_x  \\\n",
       "27      108 recensioni   300 m dal centro       NaN   \n",
       "21      250 recensioni   450 m dal centro       NaN   \n",
       "43       77 recensioni  1,7 km dal centro       NaN   \n",
       "\n",
       "    senza_pagamento_anticipato_x  ...         TIMESTAMP_y  \\\n",
       "27                          True  ...  03-06-2024---15:59   \n",
       "21                         False  ...  03-06-2024---15:59   \n",
       "43                         False  ...  03-06-2024---15:59   \n",
       "\n",
       "   offerta_solo_mobile_y offerta_super_segreta_y offerta_inizio_2024_y  \\\n",
       "27                  True                   False                 False   \n",
       "21                  True                   False                 False   \n",
       "43                 False                   False                 False   \n",
       "\n",
       "   punteggio  genius  colazione_inclusa  booking_paga  offerta_tempo_limitato  \\\n",
       "27       9,7    True              False         False                   False   \n",
       "21       8,6    True               True         False                   False   \n",
       "43       9,4   False              False         False                   False   \n",
       "\n",
       "    differenza_prezzo  \n",
       "27                 10  \n",
       "21                  6  \n",
       "43                  5  \n",
       "\n",
       "[3 rows x 40 columns]"
      ]
     },
     "execution_count": 23,
     "metadata": {},
     "output_type": "execute_result"
    }
   ],
   "source": [
    "#aggiungo colonna con differenza prezzi\n",
    "pd.set_option('display.max_rows', None)\n",
    "merged_df[\"differenza_prezzo\"] = (merged_df[\"prezzo_x\"]-merged_df[\"prezzo_y\"])\n",
    "merged_df = merged_df.sort_values(by='differenza_prezzo',ascending= False)\n",
    "#merged_df = merged_df[(merged_df['offerte_x'].isna())&(merged_df['offerte_y'].isna())&(merged_df['stanza_y'].isna())]\n",
    "merged_df[['nome_hotel','prezzo_x','prezzo_y','differenza_prezzo','offerte_x','offerte_y','stanza_x','stanza_y','TIMESTAMP_x','TIMESTAMP_y']]\n",
    "merged_df[merged_df['prezzo_iniziale_x']!=merged_df['prezzo_iniziale_y']]\n",
    "\n"
   ]
  },
  {
   "cell_type": "code",
   "execution_count": null,
   "metadata": {},
   "outputs": [],
   "source": [
    "# Visualizza dove compare una specifica offerta in almeno una delle ricerche\n",
    "df_mobile = merged_df[(merged_df['booking_paga_x']) ^ (merged_df['booking_paga_y'])]\n",
    "len(df_mobile)"
   ]
  },
  {
   "cell_type": "code",
   "execution_count": null,
   "metadata": {},
   "outputs": [],
   "source": [
    "# Elimino righe in cui il mobile non ha la stanza\n",
    "if merged_df['user_agent_type_x'].unique()[0] == 'mobile':\n",
    "    df_senza_stanza = merged_df['stanza_x'].dropna()\n",
    "elif merged_df['user_agent_type_y'].unique()[0] == 'mobile':\n",
    "    df_senza_stanza = merged_df['stanza_y'].dropna()\n",
    "len(df_senza_stanza)"
   ]
  }
 ],
 "metadata": {
  "kernelspec": {
   "display_name": "base",
   "language": "python",
   "name": "python3"
  },
  "language_info": {
   "codemirror_mode": {
    "name": "ipython",
    "version": 3
   },
   "file_extension": ".py",
   "mimetype": "text/x-python",
   "name": "python",
   "nbconvert_exporter": "python",
   "pygments_lexer": "ipython3",
   "version": "3.11.5"
  }
 },
 "nbformat": 4,
 "nbformat_minor": 2
}
